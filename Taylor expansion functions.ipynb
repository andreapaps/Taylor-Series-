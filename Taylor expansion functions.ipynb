{
 "cells": [
  {
   "cell_type": "code",
   "execution_count": 63,
   "metadata": {},
   "outputs": [
    {
     "name": "stdout",
     "output_type": "stream",
     "text": [
      "            11             9             7            5          3\n",
      "-2.505e-08 x  + 2.756e-06 x - 0.0001984 x + 0.008333 x - 0.1667 x + 1 x\n"
     ]
    }
   ],
   "source": [
    "import numpy as np\n",
    "import math\n",
    "import matplotlib.pyplot as plt\n",
    "\n",
    "def fact(n):\n",
    "    for i in range(0,n):\n",
    "        if i != 0:\n",
    "            n = n*i\n",
    "            \n",
    "    if n == 0:\n",
    "        n = n + 1\n",
    "    return n\n",
    "\n",
    "# lets build the taylor expansions of the functions we know\n",
    "\n",
    "x = np.poly1d([1,0]) #this is the variable x\n",
    "# np.poly1d([0,0]) this is the zero polynomial ~ poly1d\n",
    "\n",
    "def exp(n): #exponential powerseries with n+1 terms\n",
    "    taylor = np.poly1d([0,0])\n",
    "    \n",
    "    for i in range(0,n+1):\n",
    "        taylor = taylor + (1/fact(i))*x**i\n",
    "    return taylor\n",
    "\n",
    "def ln1(n): # powerseries of ln(x+1) with n terms\n",
    "    taylor = np.poly1d([0,0])\n",
    "    x = np.poly1d([1,0])\n",
    "    \n",
    "    for i in range(1,n+1):\n",
    "        j = (-1)**(i+1)\n",
    "        j= j/i\n",
    "        taylor = taylor + j*(x**i)\n",
    "    return taylor\n",
    "\n",
    "def sin(n): # powerseries of sin with n+1 terms\n",
    "    taylor = np.poly1d([0,0])\n",
    "    x = np.poly1d([1,0])\n",
    "    \n",
    "    for i in range(0,n+1):\n",
    "        j = (-1)**i\n",
    "        j= j/fact(2*i+1)\n",
    "        taylor = taylor + j*(x**(2*(i)+1))\n",
    "    return taylor\n",
    "\n",
    "def cos(n): # powerseries of cos with n+1 terms\n",
    "    taylor = np.poly1d([0,0])\n",
    "    x = np.poly1d([1,0])\n",
    "    \n",
    "    for i in range(0,n+1):\n",
    "        j = (-1)**i\n",
    "        j= j/fact(2*i)\n",
    "        taylor = taylor + j*(x**(2*(i)))\n",
    "    return taylor\n",
    "print(sin(5))"
   ]
  },
  {
   "cell_type": "code",
   "execution_count": null,
   "metadata": {},
   "outputs": [],
   "source": [
    "0.69314718056"
   ]
  }
 ],
 "metadata": {
  "kernelspec": {
   "display_name": "Python 3",
   "language": "python",
   "name": "python3"
  },
  "language_info": {
   "codemirror_mode": {
    "name": "ipython",
    "version": 3
   },
   "file_extension": ".py",
   "mimetype": "text/x-python",
   "name": "python",
   "nbconvert_exporter": "python",
   "pygments_lexer": "ipython3",
   "version": "3.8.8"
  }
 },
 "nbformat": 4,
 "nbformat_minor": 4
}
